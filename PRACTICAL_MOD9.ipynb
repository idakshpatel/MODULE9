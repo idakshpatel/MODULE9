{
  "nbformat": 4,
  "nbformat_minor": 0,
  "metadata": {
    "colab": {
      "provenance": []
    },
    "kernelspec": {
      "name": "python3",
      "display_name": "Python 3"
    },
    "language_info": {
      "name": "python"
    }
  },
  "cells": [
    {
      "cell_type": "markdown",
      "source": [
        "Q4-Write a Python program using multithreading where one thread adds numbers to a list, and another\n",
        "thread removes numbers from the list. Implement a mechanism to avoid race conditions using\n",
        "threading.Lock."
      ],
      "metadata": {
        "id": "kA9U6KGNGlwG"
      }
    },
    {
      "cell_type": "code",
      "source": [
        "import threading\n",
        "import time\n",
        "\n",
        "# Shared list\n",
        "numbers = []\n",
        "\n",
        "# Lock for synchronization\n",
        "lock = threading.Lock()\n",
        "\n",
        "def add_numbers():\n",
        "    for i in range(1, 6):\n",
        "        with lock:\n",
        "            numbers.append(i)\n",
        "            print(f\"Added {i} to the list\")\n",
        "        time.sleep(0.1)\n",
        "\n",
        "def remove_numbers():\n",
        "    for i in range(1, 6):\n",
        "        with lock:\n",
        "            if numbers:\n",
        "                num = numbers.pop(0)\n",
        "                print(f\"Removed {num} from the list\")\n",
        "        time.sleep(0.15)\n",
        "\n",
        "# Create threads\n",
        "t1 = threading.Thread(target=add_numbers)\n",
        "t2 = threading.Thread(target=remove_numbers)\n",
        "\n",
        "# Start threads\n",
        "t1.start()\n",
        "t2.start()\n",
        "\n",
        "# Wait for both threads to complete\n",
        "t1.join()\n",
        "t2.join()\n",
        "\n",
        "print(\"Final list:\", numbers)\n"
      ],
      "metadata": {
        "colab": {
          "base_uri": "https://localhost:8080/"
        },
        "id": "mVh78BntGlfF",
        "outputId": "bdf9c545-2fb8-42c3-ed2f-60972163a101"
      },
      "execution_count": 1,
      "outputs": [
        {
          "output_type": "stream",
          "name": "stdout",
          "text": [
            "Added 1 to the list\n",
            "Removed 1 from the list\n",
            "Added 2 to the list\n",
            "Removed 2 from the list\n",
            "Added 3 to the list\n",
            "Added 4 to the list\n",
            "Removed 3 from the list\n",
            "Added 5 to the list\n",
            "Removed 4 from the list\n",
            "Removed 5 from the list\n",
            "Final list: []\n"
          ]
        }
      ]
    },
    {
      "cell_type": "code",
      "execution_count": 2,
      "metadata": {
        "colab": {
          "base_uri": "https://localhost:8080/"
        },
        "id": "Avub6fKdGbne",
        "outputId": "38c06ff2-f12e-4ebe-a71c-ef0a6713d451"
      },
      "outputs": [
        {
          "output_type": "stream",
          "name": "stdout",
          "text": [
            "Factorial of 1 is 1\n",
            "Factorial of 2 is 2\n",
            "Factorial of 3 is 6\n",
            "Factorial of 4 is 24\n",
            "Factorial of 5 is 120\n",
            "Factorial of 6 is 720\n",
            "Factorial of 7 is 5040\n",
            "Factorial of 8 is 40320\n",
            "Factorial of 9 is 362880\n",
            "Factorial of 10 is 3628800\n"
          ]
        }
      ],
      "source": [
        "import concurrent.futures\n",
        "import math\n",
        "\n",
        "def factorial(n):\n",
        "    return math.factorial(n)\n",
        "\n",
        "numbers = range(1, 11)\n",
        "\n",
        "with concurrent.futures.ThreadPoolExecutor() as executor:\n",
        "    results = executor.map(factorial, numbers)\n",
        "\n",
        "for num, result in zip(numbers, results):\n",
        "    print(f\"Factorial of {num} is {result}\")\n"
      ]
    },
    {
      "cell_type": "markdown",
      "source": [
        "Q8 - Create a Python program that uses multiprocessing.pool to compute the square of numbers from 1 to IO in\n",
        "parallel. Measure the time taken to perform this computation using a pool Of different sizes (e.g., 2, 4, 8\n",
        "processes)."
      ],
      "metadata": {
        "id": "cgnElDKzG-uk"
      }
    },
    {
      "cell_type": "code",
      "source": [
        "import multiprocessing\n",
        "import time\n",
        "\n",
        "def square(n):\n",
        "    return n * n\n",
        "\n",
        "numbers = range(1, 11)\n",
        "\n",
        "def compute_squares(pool_size):\n",
        "    start_time = time.time()\n",
        "\n",
        "    with multiprocessing.Pool(pool_size) as pool:\n",
        "        results = pool.map(square, numbers)\n",
        "\n",
        "    duration = time.time() - start_time\n",
        "    print(f\"Pool size: {pool_size}, Time taken: {duration:.4f} seconds\")\n",
        "    print(\"Results:\", results)\n",
        "\n",
        "# Measure time with different pool sizes\n",
        "for size in [2, 4, 8]:\n",
        "    compute_squares(size)\n"
      ],
      "metadata": {
        "colab": {
          "base_uri": "https://localhost:8080/"
        },
        "id": "QUyHCRW9G_bV",
        "outputId": "80a91a67-37d9-415c-9cda-2f6aff861552"
      },
      "execution_count": 3,
      "outputs": [
        {
          "output_type": "stream",
          "name": "stdout",
          "text": [
            "Pool size: 2, Time taken: 0.0346 seconds\n",
            "Results: [1, 4, 9, 16, 25, 36, 49, 64, 81, 100]\n",
            "Pool size: 4, Time taken: 0.0453 seconds\n",
            "Results: [1, 4, 9, 16, 25, 36, 49, 64, 81, 100]\n",
            "Pool size: 8, Time taken: 0.0853 seconds\n",
            "Results: [1, 4, 9, 16, 25, 36, 49, 64, 81, 100]\n"
          ]
        }
      ]
    },
    {
      "cell_type": "markdown",
      "source": [],
      "metadata": {
        "id": "m4E4kER6GkmN"
      }
    }
  ]
}